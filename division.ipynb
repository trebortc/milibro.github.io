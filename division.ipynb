{
 "cells": [
  {
   "cell_type": "markdown",
   "metadata": {},
   "source": [
    "# DIVISION\n",
    "\n",
    "## OPCIONES\n",
    "[Inicio](index.ipynb)\n",
    "[Suma](suma.ipynb)\n",
    "[Resta](resta.ipynb)\n",
    "[Multiplicacion](multiplicacion.ipynb)\n",
    "[Division](division.ipynb)\n",
    "\n",
    "<img src=\"https://yr3ghajnsielem.files.wordpress.com/2010/06/division.png\" width=\"20%\" class=\"left\">\n",
    "\n",
    "<div style=\"clear:both;\"></div>\n",
    "\n",
    "* Esta división se representa utilizando solamente el número que representa el dividendo y el que representa el divisor, y se utiliza el signo de DIVIDIDO:\n"
   ]
  },
  {
   "cell_type": "code",
   "execution_count": null,
   "metadata": {},
   "outputs": [],
   "source": [
    "12/3"
   ]
  },
  {
   "cell_type": "markdown",
   "metadata": {
    "tags": [
     "popout"
    ]
   },
   "source": [
    "* La división es como una multiplicación hecha “al revés”; por lo cual se dice que es la inversa de la multiplicación. Esto permite hacer una prueba para saber si el resultado de la división que se obtuvo es el correcto; que consiste en multiplicar ese resultado por el divisor, y si la división estuvo bien hecha, dará como resultado el dividendo.\n",
    "\n",
    "**2** **/** **2** = 4\n",
    "</br>\n",
    "**20** **/** **5** = 4"
   ]
  },
  {
   "cell_type": "code",
   "execution_count": 2,
   "metadata": {},
   "outputs": [
    {
     "data": {
      "text/plain": [
       "1.0"
      ]
     },
     "execution_count": 2,
     "metadata": {},
     "output_type": "execute_result"
    }
   ],
   "source": [
    "2/2"
   ]
  },
  {
   "cell_type": "code",
   "execution_count": 3,
   "metadata": {},
   "outputs": [
    {
     "data": {
      "text/plain": [
       "4.0"
      ]
     },
     "execution_count": 3,
     "metadata": {},
     "output_type": "execute_result"
    }
   ],
   "source": [
    "20/5"
   ]
  }
 ],
 "metadata": {
  "kernelspec": {
   "display_name": "Python 3 (ipykernel)",
   "language": "python",
   "name": "python3"
  },
  "language_info": {
   "codemirror_mode": {
    "name": "ipython",
    "version": 3
   },
   "file_extension": ".py",
   "mimetype": "text/x-python",
   "name": "python",
   "nbconvert_exporter": "python",
   "pygments_lexer": "ipython3",
   "version": "3.11.5"
  },
  "widgets": {
   "application/vnd.jupyter.widget-state+json": {
    "state": {},
    "version_major": 2,
    "version_minor": 0
   }
  }
 },
 "nbformat": 4,
 "nbformat_minor": 4
}
