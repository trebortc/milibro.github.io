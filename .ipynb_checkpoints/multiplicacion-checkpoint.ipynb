{
 "cells": [
  {
   "cell_type": "markdown",
   "metadata": {},
   "source": [
    "# MULTIPLICACION\n",
    "\n",
    "## OPCIONES\n",
    "[Inicio](index.ipynb)\n",
    "[Suma](suma.ipynb)\n",
    "[Resta](resta.ipynb)\n",
    "[Multiplicacion](multiplicacion.ipynb)\n",
    "[Division](division.ipynb)\n",
    "\n",
    "<img src=\"https://yoprofesor.org/wp-content/uploads/2015/08/actividades-para-multiplicar.png\" width=\"20%\" class=\"left\">\n",
    "\n",
    "<div style=\"clear:both;\"></div>\n",
    "\n",
    "* La MULTIPLICACIÓN es la operación aritmética en la cual, se suma varias veces el mismo número. El número se denomina MULTIPLICANDO; y el otro número, que representa la cantidad de veces que el multiplicando es sumado, se denomina MULTIPLICADOR. El resultado de la multiplicación, se denomina PRODUCTO.\n"
   ]
  },
  {
   "cell_type": "code",
   "execution_count": 1,
   "metadata": {},
   "outputs": [
    {
     "data": {
      "text/plain": [
       "36"
      ]
     },
     "execution_count": 1,
     "metadata": {},
     "output_type": "execute_result"
    }
   ],
   "source": [
    "12 * 3"
   ]
  },
  {
   "cell_type": "markdown",
   "metadata": {
    "tags": [
     "popout"
    ]
   },
   "source": [
    "* Cuando se representa la multiplicación utilizando solamente el número que representa el multiplicando y el que representa el multiplicador, se utiliza el signo de POR:\n",
    "\n",
    "**2** * **2** = 4\n",
    "</br>\n",
    "**3** * **5** = 15"
   ]
  },
  {
   "cell_type": "code",
   "execution_count": 2,
   "metadata": {},
   "outputs": [
    {
     "data": {
      "text/plain": [
       "4"
      ]
     },
     "execution_count": 2,
     "metadata": {},
     "output_type": "execute_result"
    }
   ],
   "source": [
    "2*2"
   ]
  },
  {
   "cell_type": "code",
   "execution_count": 3,
   "metadata": {},
   "outputs": [
    {
     "data": {
      "text/plain": [
       "15"
      ]
     },
     "execution_count": 3,
     "metadata": {},
     "output_type": "execute_result"
    }
   ],
   "source": [
    "3*5"
   ]
  }
 ],
 "metadata": {
  "kernelspec": {
   "display_name": "Python 3 (ipykernel)",
   "language": "python",
   "name": "python3"
  },
  "language_info": {
   "codemirror_mode": {
    "name": "ipython",
    "version": 3
   },
   "file_extension": ".py",
   "mimetype": "text/x-python",
   "name": "python",
   "nbconvert_exporter": "python",
   "pygments_lexer": "ipython3",
   "version": "3.11.5"
  },
  "widgets": {
   "application/vnd.jupyter.widget-state+json": {
    "state": {},
    "version_major": 2,
    "version_minor": 0
   }
  }
 },
 "nbformat": 4,
 "nbformat_minor": 4
}
