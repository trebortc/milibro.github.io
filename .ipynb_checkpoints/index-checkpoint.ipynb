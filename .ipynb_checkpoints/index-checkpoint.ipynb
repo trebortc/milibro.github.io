{
 "cells": [
  {
   "cell_type": "markdown",
   "metadata": {},
   "source": [
    "# USO DE JUPITER BOOK CON OPERACIONES ARITMETICAS\n",
    "\n",
    "## OPCIONES\n",
    "[Inicio](index.ipynb)\n",
    "[Suma](suma.ipynb)\n",
    "[Resta](resta.ipynb)\n",
    "[Multiplicacion](multiplicacion.ipynb)\n",
    "[Division](division.ipynb)\n",
    "\n",
    "<img src=\"https://tomi-digital-resources.storage.googleapis.com/images/1266875/b72ceb0e-5d06-4b79-8760-23579d895864.jpg\" class=\"left\">\n",
    "\n",
    "<div style=\"clear:both;\"></div>\n",
    "\n",
    "Los números representan unidades de cosas; pero es posible utilizarlos como solamente números; y de esa forma, realizar con ellos diversas operaciones que sirven para realizar cálculos que son muy útiles; y que se llaman operaciones aritméticas.\n",
    "\n",
    "Esas operaciones son:\n",
    "\n",
    "* La SUMA — (también llamada ADICIÓN), que se representa con el signo de MÁS: +\n",
    "* La RESTA — (también llamada SUSTRACCIÓN o DIFERENCIA) que se representa con el signo de MENOS: –\n",
    "* La MULTIPLICACIÓN — que se representa con el signo de POR: ×\n",
    "* La DIVISIÓN — que se representa con el signo de DIVIDIDO: ÷\n",
    "\n",
    "El resultado de las operaciones, se representa utilizando el signo de IGUAL: ="
   ]
  },
  {
   "cell_type": "markdown",
   "metadata": {
    "tags": [
     "popout"
    ]
   },
   "source": [
    "**LA SUMA:** de uso cotidiano en el diario vivir para realizar un calculo exacto de actividades como:\n",
    "\n",
    "✨**Ir a la tienda**✨\n",
    "✨**Ir en el autobus**✨\n",
    "✨**Ir al banco**✨ \n"
   ]
  }
 ],
 "metadata": {
  "kernelspec": {
   "display_name": "Python 3 (ipykernel)",
   "language": "python",
   "name": "python3"
  },
  "language_info": {
   "codemirror_mode": {
    "name": "ipython",
    "version": 3
   },
   "file_extension": ".py",
   "mimetype": "text/x-python",
   "name": "python",
   "nbconvert_exporter": "python",
   "pygments_lexer": "ipython3",
   "version": "3.11.5"
  },
  "widgets": {
   "application/vnd.jupyter.widget-state+json": {
    "state": {},
    "version_major": 2,
    "version_minor": 0
   }
  }
 },
 "nbformat": 4,
 "nbformat_minor": 4
}
