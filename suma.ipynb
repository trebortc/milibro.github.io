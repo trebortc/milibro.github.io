{
 "cells": [
  {
   "cell_type": "markdown",
   "metadata": {},
   "source": [
    "# SUMA\n",
    "\n",
    "## OPCIONES\n",
    "[Inicio](index.ipynb)\n",
    "[Suma](suma.ipynb)\n",
    "[Resta](resta.ipynb)\n",
    "[Multiplicacion](multiplicacion.ipynb)\n",
    "[Division](division.ipynb)\n",
    "\n",
    "<img src=\"https://cdn5.dibujos.net/dibujos/pintados/202050/12=3-colegio-12109595.jpg\" width=\"20%\" class=\"left\">\n",
    "\n",
    "<div style=\"clear:both;\"></div>\n",
    "\n",
    "* La SUMA es la operación aritmética mediante la cual, teniendo dos o más números, se acumula la cantidad de unidades que cada uno representa, para obtener otro número que representa la cantidad de todos ellos.\n",
    "\n",
    "Cada uno de los números que representan las unidades de uno y otro grupo, se denominan SUMANDOS."
   ]
  },
  {
   "cell_type": "code",
   "execution_count": 3,
   "metadata": {},
   "outputs": [
    {
     "data": {
      "text/plain": [
       "15"
      ]
     },
     "execution_count": 3,
     "metadata": {},
     "output_type": "execute_result"
    }
   ],
   "source": [
    "12+3"
   ]
  },
  {
   "cell_type": "markdown",
   "metadata": {
    "tags": [
     "popout"
    ]
   },
   "source": [
    "* Esa operación se representa colocando solamente el número que representa el total de las unidades de cada sumando y también el que representa el resultado de la suma:\n",
    "\n",
    "**2** **+** **2** = 4\n",
    "</br>\n",
    "**3** **+** **5** = 8"
   ]
  },
  {
   "cell_type": "code",
   "execution_count": 2,
   "metadata": {},
   "outputs": [
    {
     "data": {
      "text/plain": [
       "4"
      ]
     },
     "execution_count": 2,
     "metadata": {},
     "output_type": "execute_result"
    }
   ],
   "source": [
    "2+2"
   ]
  },
  {
   "cell_type": "code",
   "execution_count": 1,
   "metadata": {},
   "outputs": [
    {
     "data": {
      "text/plain": [
       "8"
      ]
     },
     "execution_count": 1,
     "metadata": {},
     "output_type": "execute_result"
    }
   ],
   "source": [
    "3+5"
   ]
  }
 ],
 "metadata": {
  "kernelspec": {
   "display_name": "Python 3 (ipykernel)",
   "language": "python",
   "name": "python3"
  },
  "language_info": {
   "codemirror_mode": {
    "name": "ipython",
    "version": 3
   },
   "file_extension": ".py",
   "mimetype": "text/x-python",
   "name": "python",
   "nbconvert_exporter": "python",
   "pygments_lexer": "ipython3",
   "version": "3.11.5"
  },
  "widgets": {
   "application/vnd.jupyter.widget-state+json": {
    "state": {},
    "version_major": 2,
    "version_minor": 0
   }
  }
 },
 "nbformat": 4,
 "nbformat_minor": 4
}
