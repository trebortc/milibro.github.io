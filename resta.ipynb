{
 "cells": [
  {
   "cell_type": "markdown",
   "metadata": {},
   "source": [
    "# RESTA\n",
    "\n",
    "## OPCIONES\n",
    "[Inicio](index.ipynb)\n",
    "[Suma](suma.ipynb)\n",
    "[Resta](resta.ipynb)\n",
    "[Multiplicacion](multiplicacion.ipynb)\n",
    "[Division](division.ipynb)\n",
    "\n",
    "<img src=\"https://apcilab-escuela.educate.org.ec/wp-content/uploads/2016/12/RESTA-1.jpg\" width=\"20%\" class=\"left\">\n",
    "\n",
    "<div style=\"clear:both;\"></div>\n",
    "\n",
    "* La RESTA es la operación aritmética mediante la cual, teniendo dos números, se quita de la que tiene más cantidad de unidades, la que tiene menos cantidad de unidades, para obtener otro número que representa la diferencia de cantidad entre ellos.\n",
    "\n",
    "El mayor de los números se denomina MINUENDO; y el menor se denomina SUSTRAENDO."
   ]
  },
  {
   "cell_type": "code",
   "execution_count": 6,
   "metadata": {},
   "outputs": [
    {
     "data": {
      "text/plain": [
       "2"
      ]
     },
     "execution_count": 6,
     "metadata": {},
     "output_type": "execute_result"
    }
   ],
   "source": [
    "5 - 3"
   ]
  },
  {
   "cell_type": "markdown",
   "metadata": {
    "tags": [
     "popout"
    ]
   },
   "source": [
    "* Esta operación también se representa colocando solamente el número que representa el total de las unidades de cada término y también el que representa el resultado de la resta:\n",
    "\n",
    "**4** **-** **2** = 4\n",
    "</br>\n",
    "**8** **-** **5** = 3"
   ]
  },
  {
   "cell_type": "code",
   "execution_count": 4,
   "metadata": {},
   "outputs": [
    {
     "data": {
      "text/plain": [
       "7"
      ]
     },
     "execution_count": 4,
     "metadata": {},
     "output_type": "execute_result"
    }
   ],
   "source": [
    "10 - 3"
   ]
  },
  {
   "cell_type": "code",
   "execution_count": 5,
   "metadata": {},
   "outputs": [
    {
     "data": {
      "text/plain": [
       "5"
      ]
     },
     "execution_count": 5,
     "metadata": {},
     "output_type": "execute_result"
    }
   ],
   "source": [
    "9 - 4"
   ]
  }
 ],
 "metadata": {
  "kernelspec": {
   "display_name": "Python 3 (ipykernel)",
   "language": "python",
   "name": "python3"
  },
  "language_info": {
   "codemirror_mode": {
    "name": "ipython",
    "version": 3
   },
   "file_extension": ".py",
   "mimetype": "text/x-python",
   "name": "python",
   "nbconvert_exporter": "python",
   "pygments_lexer": "ipython3",
   "version": "3.11.5"
  },
  "widgets": {
   "application/vnd.jupyter.widget-state+json": {
    "state": {},
    "version_major": 2,
    "version_minor": 0
   }
  }
 },
 "nbformat": 4,
 "nbformat_minor": 4
}
